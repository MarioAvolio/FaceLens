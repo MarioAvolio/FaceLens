{
  "nbformat": 4,
  "nbformat_minor": 0,
  "metadata": {
    "colab": {
      "provenance": []
    },
    "kernelspec": {
      "name": "python3",
      "display_name": "Python 3"
    },
    "language_info": {
      "name": "python"
    }
  },
  "cells": [
    {
      "cell_type": "markdown",
      "source": [
        "The present notebook presents the unit testing implementation for the Dataset Collection task"
      ],
      "metadata": {
        "id": "KhpraRl9TXqY"
      }
    },
    {
      "cell_type": "markdown",
      "source": [
        "# Dependencies"
      ],
      "metadata": {
        "id": "-thG5zvdjP9Z"
      }
    },
    {
      "cell_type": "code",
      "source": [
        "from google.colab import drive\n",
        "drive.mount('/content/drive', force_remount=True)"
      ],
      "metadata": {
        "colab": {
          "base_uri": "https://localhost:8080/"
        },
        "id": "Q7sUwa98Vrwt",
        "outputId": "eca2033c-4010-4f68-ff0c-0633221d86f6"
      },
      "execution_count": 1,
      "outputs": [
        {
          "output_type": "stream",
          "name": "stdout",
          "text": [
            "Mounted at /content/drive\n"
          ]
        }
      ]
    },
    {
      "cell_type": "code",
      "source": [
        "!pip install -q kaggle"
      ],
      "metadata": {
        "id": "HH5NufBCQAF0"
      },
      "execution_count": 2,
      "outputs": []
    },
    {
      "cell_type": "code",
      "source": [
        "import unittest\n",
        "import os"
      ],
      "metadata": {
        "trusted": true,
        "id": "VWqKYVzxP-7k"
      },
      "execution_count": 3,
      "outputs": []
    },
    {
      "cell_type": "markdown",
      "source": [
        "# Adience Dataset"
      ],
      "metadata": {
        "id": "raN9h5CFg-i0"
      }
    },
    {
      "cell_type": "code",
      "source": [
        "def create_kaggle_dir(kaggle_dir=\"/root/.kaggle/\"):\n",
        "    if not os.path.exists(kaggle_dir):\n",
        "        !mkdir $kaggle_dir\n",
        "\n",
        "def retrieve_kaggle_json(source_dir=\"/content/drive/MyDrive/\", kaggle_dir=\"/root/.kaggle/\", file_name=\"kaggle.json\"):\n",
        "    source_file = os.path.join(source_dir, file_name)\n",
        "    target_file = os.path.join(kaggle_dir, file_name)\n",
        "\n",
        "    if not os.path.exists(target_file):\n",
        "        !cp $source_file $kaggle_dir\n",
        "        !chmod 600 $target_file"
      ],
      "metadata": {
        "id": "CSnWVtjMhAQ4"
      },
      "execution_count": 4,
      "outputs": []
    },
    {
      "cell_type": "code",
      "source": [
        "def download_adience_dataset():\n",
        "    if not os.path.exists(\"/content/adience-benchmark-gender-and-age-classification.zip\"):\n",
        "        !kaggle datasets download -d ttungl/adience-benchmark-gender-and-age-classification\n",
        "\n",
        "def unzip_adience_dataset():\n",
        "    if not os.path.exists(\"/content/adience-benchmark-gender-and-age-classification\"):\n",
        "        !unzip adience-benchmark-gender-and-age-classification.zip -d adience-benchmark-gender-and-age-classification > /dev/null 2>&1"
      ],
      "metadata": {
        "id": "vvtL9FpcjGiN"
      },
      "execution_count": 6,
      "outputs": []
    },
    {
      "cell_type": "code",
      "source": [
        "class TestAdienceDataset(unittest.TestCase):\n",
        "  \n",
        "    def test_kaggle_dir(self):\n",
        "        '''Test case function for creating the kaggle directory in root'''\n",
        "        kaggle_dir=\"/root/.kaggle/\"\n",
        "\n",
        "        create_kaggle_dir(kaggle_dir=kaggle_dir)\n",
        "        result = os.path.exists(kaggle_dir)\n",
        "    \n",
        "        self.assertTrue(result)\n",
        "\n",
        "    def test_kaggle_json(self):\n",
        "        '''Test case function for retrieving the kaggle data file'''\n",
        "        kaggle_dir=\"/root/.kaggle/\"\n",
        "        file_name=\"kaggle.json\"\n",
        "\n",
        "        create_kaggle_dir(kaggle_dir=kaggle_dir)\n",
        "        retrieve_kaggle_json(file_name=file_name, kaggle_dir=kaggle_dir)\n",
        "        expected_file = os.path.join(kaggle_dir, file_name)\n",
        "        result = os.path.exists(expected_file)\n",
        "    \n",
        "        self.assertTrue(result)\n",
        "\n",
        "    def test_kaggle_json_permissions(self):\n",
        "        '''Test case function for checking the kaggle data file permissions'''\n",
        "        kaggle_dir=\"/root/.kaggle/\"\n",
        "        file_name=\"kaggle.json\"\n",
        "        file_path=os.path.join(kaggle_dir, file_name)\n",
        "\n",
        "        retrieve_kaggle_json(file_name=file_name, kaggle_dir=kaggle_dir)\n",
        "        \n",
        "\n",
        "        with self.subTest():\n",
        "            result = os.access(file_path, os.R_OK) # Check for read access\n",
        "            self.assertTrue(result)\n",
        "        with self.subTest():\n",
        "            result = os.access(file_path, os.W_OK) # Check for write access\n",
        "            self.assertTrue(result)\n",
        "        with self.subTest():\n",
        "            result = os.access(file_path, os.X_OK) # Check for execution access\n",
        "            self.assertFalse(result)          # Expected False since we used chmod=600\n",
        "\n",
        "\n",
        "    def test_download_adience(self):\n",
        "        '''Test case function for downloading the Adience dataset'''\n",
        "\n",
        "        download_adience_dataset()\n",
        "        expected_file = \"/content/adience-benchmark-gender-and-age-classification.zip\"\n",
        "        result = os.path.exists(expected_file)\n",
        "    \n",
        "        self.assertTrue(result)\n",
        "\n",
        "    def test_unzip_adience(self):\n",
        "        '''Test case function for unzipping the Adience dataset'''\n",
        "\n",
        "        unzip_adience_dataset()\n",
        "\n",
        "\n",
        "        main_path = \"/content/adience-benchmark-gender-and-age-classification\"\n",
        "        with self.subTest():\n",
        "            result = os.path.exists(main_path)\n",
        "            self.assertTrue(result)\n",
        "\n",
        "        with self.subTest():\n",
        "            faces_path = os.path.join(main_path, \"AdienceBenchmarkGenderAndAgeClassification\", \"faces\")\n",
        "            result = os.path.exists(faces_path)\n",
        "            self.assertTrue(result)\n",
        "        \n",
        "        with self.subTest():\n",
        "            result = True\n",
        "            for i in range(5):\n",
        "                table_data = os.path.join(main_path, \"AdienceBenchmarkGenderAndAgeClassification\", \"fold_\"+str(i)+\"_data.txt\")\n",
        "                result = result and os.path.exists(faces_path)\n",
        "\n",
        "            self.assertTrue(result)\n",
        "            "
      ],
      "metadata": {
        "id": "-1fj7pJlhcc9"
      },
      "execution_count": 11,
      "outputs": []
    },
    {
      "cell_type": "code",
      "source": [
        "unittest.main(argv=[''], verbosity=2, exit=False)"
      ],
      "metadata": {
        "colab": {
          "base_uri": "https://localhost:8080/"
        },
        "id": "g-9zBxYPmjhG",
        "outputId": "00557bfc-5fb3-47b9-f984-caa4df24bd07"
      },
      "execution_count": 10,
      "outputs": [
        {
          "output_type": "stream",
          "name": "stderr",
          "text": [
            "test_download_adience (__main__.TestAdienceDataset)\n",
            "Test case function for downloading the Adience dataset ... "
          ]
        },
        {
          "output_type": "stream",
          "name": "stdout",
          "text": [
            "Downloading adience-benchmark-gender-and-age-classification.zip to /content\n",
            " 99% 1.38G/1.39G [00:09<00:00, 161MB/s]\n",
            "100% 1.39G/1.39G [00:09<00:00, 151MB/s]\n"
          ]
        },
        {
          "output_type": "stream",
          "name": "stderr",
          "text": [
            "ok\n",
            "test_kaggle_dir (__main__.TestAdienceDataset)\n",
            "Test case function for creating the kaggle directory in root ... ok\n",
            "test_kaggle_json (__main__.TestAdienceDataset)\n",
            "Test case function for retrieving the kaggle data file ... ok\n",
            "test_kaggle_json_permissions (__main__.TestAdienceDataset)\n",
            "Test case function for retrieving the kaggle data file ... ok\n",
            "test_unzip_adience (__main__.TestAdienceDataset)\n",
            "Test case function for unzipping the Adience dataset ... ok\n",
            "\n",
            "----------------------------------------------------------------------\n",
            "Ran 5 tests in 32.270s\n",
            "\n",
            "OK\n"
          ]
        },
        {
          "output_type": "execute_result",
          "data": {
            "text/plain": [
              "<unittest.main.TestProgram at 0x7fc54c8faa90>"
            ]
          },
          "metadata": {},
          "execution_count": 10
        }
      ]
    },
    {
      "cell_type": "code",
      "source": [],
      "metadata": {
        "id": "wewu0ig8pLrA"
      },
      "execution_count": 8,
      "outputs": []
    }
  ]
}