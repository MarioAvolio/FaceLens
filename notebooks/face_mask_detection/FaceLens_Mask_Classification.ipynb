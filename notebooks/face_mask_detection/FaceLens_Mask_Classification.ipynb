{
  "nbformat": 4,
  "nbformat_minor": 0,
  "metadata": {
    "colab": {
      "provenance": [],
      "gpuType": "T4"
    },
    "kernelspec": {
      "name": "python3",
      "display_name": "Python 3"
    },
    "language_info": {
      "name": "python"
    },
    "accelerator": "GPU",
    "gpuClass": "standard"
  },
  "cells": [
    {
      "cell_type": "markdown",
      "source": [
        "# Dependencies"
      ],
      "metadata": {
        "id": "wLxVTUfjQfAL"
      }
    },
    {
      "cell_type": "code",
      "source": [
        "from google.colab import drive\n",
        "drive.mount('/content/drive', force_remount=True)"
      ],
      "metadata": {
        "colab": {
          "base_uri": "https://localhost:8080/"
        },
        "id": "Q7sUwa98Vrwt",
        "outputId": "7c79faae-b5f9-4e29-817f-fd72db5d0bc9"
      },
      "execution_count": 1,
      "outputs": [
        {
          "output_type": "stream",
          "name": "stdout",
          "text": [
            "Mounted at /content/drive\n"
          ]
        }
      ]
    },
    {
      "cell_type": "code",
      "source": [
        "!pip install -q kaggle"
      ],
      "metadata": {
        "id": "HH5NufBCQAF0"
      },
      "execution_count": 2,
      "outputs": []
    },
    {
      "cell_type": "code",
      "source": [
        "import numpy as np\n",
        "import pandas as pd\n",
        "import matplotlib.pyplot as plt\n",
        "import seaborn as sns\n",
        "import cv2\n",
        "from PIL import Image\n",
        "\n",
        "import tensorflow as tf\n",
        "from keras.models import Sequential\n",
        "from keras.layers import Conv2D, MaxPooling2D, Activation, Dropout, Flatten, Dense, Dropout, LayerNormalization\n",
        "from keras.preprocessing.image import ImageDataGenerator\n",
        "from tensorflow.keras.utils import img_to_array, load_img\n",
        "from tensorflow import keras\n",
        "%load_ext tensorboard\n",
        "\n",
        "\n",
        "import os"
      ],
      "metadata": {
        "trusted": true,
        "id": "VWqKYVzxP-7k"
      },
      "execution_count": 3,
      "outputs": []
    },
    {
      "cell_type": "markdown",
      "source": [
        "# Data Loading"
      ],
      "metadata": {
        "id": "6DCYjuw0ja8b"
      }
    },
    {
      "cell_type": "code",
      "source": [
        "def create_kaggle_dir(kaggle_dir=\"/root/.kaggle/\"):\n",
        "    if not os.path.exists(kaggle_dir):\n",
        "        !mkdir $kaggle_dir\n",
        "\n",
        "def retrieve_kaggle_json(source_dir=\"/content/drive/MyDrive/\", kaggle_dir=\"/root/.kaggle/\", file_name=\"kaggle.json\"):\n",
        "    source_file = os.path.join(source_dir, file_name)\n",
        "    target_file = os.path.join(kaggle_dir, file_name)\n",
        "\n",
        "    if not os.path.exists(target_file):\n",
        "        !cp $source_file $kaggle_dir\n",
        "        !chmod 600 $target_file\n",
        "\n",
        "def download_facemask_dataset():\n",
        "    if not os.path.exists(\"/content/face-mask-detection.zip\"):\n",
        "        !kaggle datasets download -d dhruvmak/face-mask-detection\n",
        "\n",
        "def unzip_facemask_dataset():\n",
        "    if not os.path.exists(\"/content/face-mask-detection\"):\n",
        "        !unzip face-mask-detection.zip -d face-mask-detection > /dev/null 2>&1\n",
        "\n",
        "def dataset_pipeline():\n",
        "    create_kaggle_dir()\n",
        "    retrieve_kaggle_json()\n",
        "    download_facemask_dataset()\n",
        "    unzip_facemask_dataset()\n",
        "\n",
        "dataset_pipeline()"
      ],
      "metadata": {
        "id": "ENgYkyHdRxin",
        "colab": {
          "base_uri": "https://localhost:8080/"
        },
        "outputId": "cce45580-c917-4e8f-e6c4-906c59df5daf"
      },
      "execution_count": 4,
      "outputs": [
        {
          "output_type": "stream",
          "name": "stdout",
          "text": [
            "Downloading face-mask-detection.zip to /content\n",
            " 99% 192M/194M [00:07<00:00, 34.5MB/s]\n",
            "100% 194M/194M [00:07<00:00, 28.8MB/s]\n"
          ]
        }
      ]
    },
    {
      "cell_type": "code",
      "source": [
        "IMG_SIZE = 224\n",
        "\n",
        "datagen = tf.keras.preprocessing.image.ImageDataGenerator(rescale=1/255.0, \n",
        "                                                          shear_range=0.2, \n",
        "                                                          zoom_range=0.2, \n",
        "                                                          rotation_range=45, \n",
        "                                                          horizontal_flip=True, \n",
        "                                                          validation_split=0.2)"
      ],
      "metadata": {
        "id": "gpFU0SzmTrXA"
      },
      "execution_count": 5,
      "outputs": []
    },
    {
      "cell_type": "code",
      "source": [
        "train = datagen.flow_from_directory('/content/face-mask-detection/dataset/', target_size=(IMG_SIZE,IMG_SIZE), batch_size=16, \n",
        "                                    class_mode='binary', interpolation='lanczos', shuffle=True, subset='training')\n",
        "\n",
        "test = datagen.flow_from_directory('/content/face-mask-detection/dataset/', target_size=(IMG_SIZE,IMG_SIZE), batch_size=16, \n",
        "                                    class_mode='binary', interpolation='lanczos', shuffle=True, subset='validation')"
      ],
      "metadata": {
        "colab": {
          "base_uri": "https://localhost:8080/"
        },
        "id": "x9316gthT8zK",
        "outputId": "6c403bac-ee4f-4e10-9dab-636ff1dc0371"
      },
      "execution_count": 6,
      "outputs": [
        {
          "output_type": "stream",
          "name": "stdout",
          "text": [
            "Found 352 images belonging to 2 classes.\n",
            "Found 88 images belonging to 2 classes.\n"
          ]
        }
      ]
    },
    {
      "cell_type": "markdown",
      "source": [
        "# Model Creation"
      ],
      "metadata": {
        "id": "YOSOJhFRUwSZ"
      }
    },
    {
      "cell_type": "code",
      "source": [
        "model = tf.keras.models.Sequential([\n",
        "    tf.keras.layers.Input((IMG_SIZE,IMG_SIZE,3)),\n",
        "    tf.keras.applications.MobileNet(include_top=False, weights='imagenet'),\n",
        "    tf.keras.layers.Conv2D(3, 3, padding='same', activation='sigmoid'),\n",
        "    tf.keras.layers.Flatten(),\n",
        "    tf.keras.layers.Dense(1, activation='sigmoid')\n",
        "])\n",
        "\n",
        "model.compile(loss='binary_crossentropy', optimizer='rmsprop', metrics=['accuracy'])\n",
        "\n",
        "model.summary()"
      ],
      "metadata": {
        "colab": {
          "base_uri": "https://localhost:8080/"
        },
        "id": "gc6tim1aUZVZ",
        "outputId": "618ea7a1-3eed-4d6f-c272-6b4cd838b817"
      },
      "execution_count": 7,
      "outputs": [
        {
          "output_type": "stream",
          "name": "stderr",
          "text": [
            "WARNING:tensorflow:`input_shape` is undefined or non-square, or `rows` is not in [128, 160, 192, 224]. Weights for input shape (224, 224) will be loaded as the default.\n"
          ]
        },
        {
          "output_type": "stream",
          "name": "stdout",
          "text": [
            "Downloading data from https://storage.googleapis.com/tensorflow/keras-applications/mobilenet/mobilenet_1_0_224_tf_no_top.h5\n",
            "17225924/17225924 [==============================] - 1s 0us/step\n",
            "Model: \"sequential\"\n",
            "_________________________________________________________________\n",
            " Layer (type)                Output Shape              Param #   \n",
            "=================================================================\n",
            " mobilenet_1.00_224 (Functio  (None, None, None, 1024)  3228864  \n",
            " nal)                                                            \n",
            "                                                                 \n",
            " conv2d (Conv2D)             (None, 7, 7, 3)           27651     \n",
            "                                                                 \n",
            " flatten (Flatten)           (None, 147)               0         \n",
            "                                                                 \n",
            " dense (Dense)               (None, 1)                 148       \n",
            "                                                                 \n",
            "=================================================================\n",
            "Total params: 3,256,663\n",
            "Trainable params: 3,234,775\n",
            "Non-trainable params: 21,888\n",
            "_________________________________________________________________\n"
          ]
        }
      ]
    },
    {
      "cell_type": "code",
      "source": [
        "model.fit(train, epochs=5, validation_data=test)"
      ],
      "metadata": {
        "id": "8oVgK6s0Wjh3",
        "colab": {
          "base_uri": "https://localhost:8080/"
        },
        "outputId": "a2ffe562-bee6-4e25-9733-5316b7ebb286"
      },
      "execution_count": 8,
      "outputs": [
        {
          "output_type": "stream",
          "name": "stdout",
          "text": [
            "Epoch 1/5\n",
            "22/22 [==============================] - 42s 774ms/step - loss: 0.3075 - accuracy: 0.8580 - val_loss: 0.7861 - val_accuracy: 0.5227\n",
            "Epoch 2/5\n",
            "22/22 [==============================] - 16s 747ms/step - loss: 0.1159 - accuracy: 0.9716 - val_loss: 0.1688 - val_accuracy: 0.9659\n",
            "Epoch 3/5\n",
            "22/22 [==============================] - 17s 762ms/step - loss: 0.0639 - accuracy: 0.9858 - val_loss: 0.7387 - val_accuracy: 0.6136\n",
            "Epoch 4/5\n",
            "22/22 [==============================] - 16s 727ms/step - loss: 0.0319 - accuracy: 0.9972 - val_loss: 0.1478 - val_accuracy: 0.9318\n",
            "Epoch 5/5\n",
            "22/22 [==============================] - 16s 744ms/step - loss: 0.0396 - accuracy: 0.9886 - val_loss: 0.0345 - val_accuracy: 1.0000\n"
          ]
        },
        {
          "output_type": "execute_result",
          "data": {
            "text/plain": [
              "<keras.callbacks.History at 0x7fec64b91cf0>"
            ]
          },
          "metadata": {},
          "execution_count": 8
        }
      ]
    },
    {
      "cell_type": "code",
      "source": [
        "model.evaluate(test)"
      ],
      "metadata": {
        "colab": {
          "base_uri": "https://localhost:8080/"
        },
        "id": "u71FKhGX5s1u",
        "outputId": "e386f6ee-28e7-4272-8cc4-8d978b3ef05c"
      },
      "execution_count": 9,
      "outputs": [
        {
          "output_type": "stream",
          "name": "stdout",
          "text": [
            "6/6 [==============================] - 3s 464ms/step - loss: 0.0379 - accuracy: 1.0000\n"
          ]
        },
        {
          "output_type": "execute_result",
          "data": {
            "text/plain": [
              "[0.03790757432579994, 1.0]"
            ]
          },
          "metadata": {},
          "execution_count": 9
        }
      ]
    }
  ]
}