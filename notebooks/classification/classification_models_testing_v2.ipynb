{
  "nbformat": 4,
  "nbformat_minor": 0,
  "metadata": {
    "colab": {
      "provenance": [],
      "toc_visible": true
    },
    "kernelspec": {
      "name": "python3",
      "display_name": "Python 3"
    },
    "language_info": {
      "name": "python"
    }
  },
  "cells": [
    {
      "cell_type": "code",
      "execution_count": null,
      "metadata": {
        "colab": {
          "base_uri": "https://localhost:8080/"
        },
        "id": "lFvi3wh39N5s",
        "outputId": "ad5ccbb7-0ca7-4bc2-f048-ab1159f2a864"
      },
      "outputs": [
        {
          "output_type": "stream",
          "name": "stdout",
          "text": [
            "Mounted at /content/drive\n"
          ]
        }
      ],
      "source": [
        "from google.colab import drive\n",
        "drive.mount('/content/drive', force_remount=True)"
      ]
    },
    {
      "cell_type": "code",
      "source": [
        "import numpy as np\n",
        "import pandas as pd\n",
        "import matplotlib.pyplot as plt\n",
        "import seaborn as sns\n",
        "import cv2\n",
        "from PIL import Image\n",
        "from skimage import transform\n",
        "\n",
        "import tensorflow as tf\n",
        "from keras.models import Sequential\n",
        "from keras.layers import Conv2D, MaxPooling2D, Activation, Dropout, Flatten, Dense, Dropout, LayerNormalization\n",
        "from keras.preprocessing.image import ImageDataGenerator\n",
        "from tensorflow.keras.utils import img_to_array, load_img\n",
        "from tensorflow import keras\n",
        "\n",
        "import unittest\n",
        "import os"
      ],
      "metadata": {
        "id": "YhhxllU69kGV"
      },
      "execution_count": null,
      "outputs": []
    },
    {
      "cell_type": "code",
      "source": [
        "def is_keras_model(obj):\n",
        "    model_classes = (tf.keras.Model, keras.Model, tf.estimator.Estimator)\n",
        "    return isinstance(obj, model_classes)"
      ],
      "metadata": {
        "id": "RJYqml7P_Sxa"
      },
      "execution_count": null,
      "outputs": []
    },
    {
      "cell_type": "code",
      "source": [
        "def load_model(model_path):\n",
        "    try:\n",
        "        model = keras.models.load_model(model_path)\n",
        "    except:\n",
        "        model = None\n",
        "\n",
        "    return model\n",
        "\n",
        "def load_img(filename, dim=224):\n",
        "   np_image = Image.open(filename)\n",
        "   np_image = np.array(np_image).astype('float32')/255\n",
        "   np_image = transform.resize(np_image, (dim, dim, 3))\n",
        "   np_image = np.expand_dims(np_image, axis=0)\n",
        "   return np_image\n",
        "\n",
        "def model_inference(model, input):\n",
        "    if is_keras_model(model):\n",
        "        return model.predict(input, verbose=False)\n",
        "    \n",
        "    else:\n",
        "        return None"
      ],
      "metadata": {
        "id": "R2_XFKrf9ySA"
      },
      "execution_count": null,
      "outputs": []
    },
    {
      "cell_type": "markdown",
      "source": [
        "# Gender"
      ],
      "metadata": {
        "id": "oySD9vJpM5p3"
      }
    },
    {
      "cell_type": "code",
      "source": [
        "class TestGenderClassificationModels(unittest.TestCase):\n",
        "  \n",
        "    def test_load_model(self):\n",
        "        '''Test case function for loading an existing keras model'''\n",
        "        \n",
        "        with self.subTest():\n",
        "            model_path = \"/content/drive/MyDrive/Lab-Proj/\"+\"models/EfficientNetV2B0-gender.h5\"\n",
        "\n",
        "            model = load_model(model_path)\n",
        "            result = is_keras_model(model)\n",
        "        \n",
        "            self.assertTrue(result)\n",
        "\n",
        "        with self.subTest():\n",
        "            model_path = \"/content/drive/MyDrive/Lab-Proj/\"+\"models/fake_model.h5\"\n",
        "\n",
        "            model = load_model(model_path)\n",
        "            result = is_keras_model(model)\n",
        "        \n",
        "            self.assertFalse(result)\n",
        "\n",
        "    def test_load_image(self):\n",
        "        '''Test case function for loading an image as input for the model'''\n",
        "\n",
        "        img_path = \"/content/drive/MyDrive/Lab-Proj/testing/kvara.jpg\"\n",
        "        dim = 224\n",
        "\n",
        "        img = load_img(img_path, dim)\n",
        "        shape = np.array(img).shape\n",
        "\n",
        "        self.assertEqual(shape, (1, dim,dim,3))\n",
        "\n",
        "    def test_model_inference(self):\n",
        "        '''Test case function for predicting a single image with the loaded model'''\n",
        "\n",
        "        model_path = \"/content/drive/MyDrive/Lab-Proj/\"+\"models/EfficientNetV2B0-gender.h5\"\n",
        "        model = load_model(model_path)\n",
        "\n",
        "        img_path = \"/content/drive/MyDrive/Lab-Proj/testing/kvara.jpg\"\n",
        "        dim = 224\n",
        "        img = load_img(img_path, dim)\n",
        "\n",
        "        pred = model_inference(model, img)\n",
        "        shape = pred.shape\n",
        "\n",
        "        self.assertEqual(shape, (1, model.output.shape[1:].as_list()[0]))\n",
        "\n",
        "    def test_fake_model_inference_(self):\n",
        "        '''Test case function for predicting a single image with the loaded model'''\n",
        "\n",
        "        model_path = \"/content/drive/MyDrive/Lab-Proj/\"+\"models/fake_model.h5\"\n",
        "        model = load_model(model_path)\n",
        "\n",
        "        img_path = \"/content/drive/MyDrive/Lab-Proj/testing/kvara.jpg\"\n",
        "        dim = 224\n",
        "        img = load_img(img_path, dim)\n",
        "\n",
        "        pred = model_inference(model, img)\n",
        "        self.assertEqual(pred, None)"
      ],
      "metadata": {
        "id": "ekGJlERNWoir"
      },
      "execution_count": null,
      "outputs": []
    },
    {
      "cell_type": "code",
      "source": [
        "class TestGenderClassificationModels(unittest.TestCase):\n",
        "  \n",
        "    def test_load_model(self):\n",
        "        '''Test case function for loading an existing keras model'''\n",
        "        \n",
        "        with self.subTest():\n",
        "            model_path = \"/content/drive/MyDrive/Lab-Proj/\"+\"models/EfficientNetV2S-gender.h5\"\n",
        "\n",
        "            model = load_model(model_path)\n",
        "            result = is_keras_model(model)\n",
        "        \n",
        "            self.assertTrue(result)\n",
        "\n",
        "        with self.subTest():\n",
        "            model_path = \"/content/drive/MyDrive/Lab-Proj/\"+\"models/fake_model.h5\"\n",
        "\n",
        "            model = load_model(model_path)\n",
        "            result = is_keras_model(model)\n",
        "        \n",
        "            self.assertFalse(result)\n",
        "\n",
        "    def test_load_image(self):\n",
        "        '''Test case function for loading an image as input for the model'''\n",
        "\n",
        "        img_path = \"/content/drive/MyDrive/Lab-Proj/testing/kvara.jpg\"\n",
        "        dim = 224\n",
        "\n",
        "        img = load_img(img_path, dim)\n",
        "        shape = np.array(img).shape\n",
        "\n",
        "        self.assertEqual(shape, (1, dim,dim,3))\n",
        "\n",
        "    def test_model_inference(self):\n",
        "        '''Test case function for predicting a single image with the loaded model'''\n",
        "\n",
        "        model_path = \"/content/drive/MyDrive/Lab-Proj/\"+\"models/EfficientNetV2B0-gender.h5\"\n",
        "        model = load_model(model_path)\n",
        "\n",
        "        img_path = \"/content/drive/MyDrive/Lab-Proj/testing/kvara.jpg\"\n",
        "        dim = 224\n",
        "        img = load_img(img_path, dim)\n",
        "\n",
        "        pred = model_inference(model, img)\n",
        "        shape = pred.shape\n",
        "\n",
        "        self.assertEqual(shape, (1, model.output.shape[1:].as_list()[0]))\n",
        "\n",
        "    def test_fake_model_inference_(self):\n",
        "        '''Test case function for predicting a single image with the loaded model'''\n",
        "\n",
        "        model_path = \"/content/drive/MyDrive/Lab-Proj/\"+\"models/fake_model.h5\"\n",
        "        model = load_model(model_path)\n",
        "\n",
        "        img_path = \"/content/drive/MyDrive/Lab-Proj/testing/kvara.jpg\"\n",
        "        dim = 224\n",
        "        img = load_img(img_path, dim)\n",
        "\n",
        "        pred = model_inference(model, img)\n",
        "        self.assertEqual(pred, None)"
      ],
      "metadata": {
        "id": "9CPGcchwLAa0"
      },
      "execution_count": null,
      "outputs": []
    },
    {
      "cell_type": "code",
      "source": [
        "class TestGenderClassificationModels(unittest.TestCase):\n",
        "  \n",
        "    def test_load_model(self):\n",
        "        '''Test case function for loading an existing keras model'''\n",
        "        \n",
        "        with self.subTest():\n",
        "            model_path = \"/content/drive/MyDrive/Lab-Proj/\"+\"models/EfficientNetV2B0-gender.h5\"\n",
        "\n",
        "            model = load_model(model_path)\n",
        "            result = is_keras_model(model)\n",
        "        \n",
        "            self.assertTrue(result)\n",
        "\n",
        "        with self.subTest():\n",
        "            model_path = \"/content/drive/MyDrive/Lab-Proj/\"+\"models/fake_model.h5\"\n",
        "\n",
        "            model = load_model(model_path)\n",
        "            result = is_keras_model(model)\n",
        "        \n",
        "            self.assertFalse(result)\n",
        "\n",
        "    def test_load_image(self):\n",
        "        '''Test case function for loading an image as input for the model'''\n",
        "\n",
        "        img_path = \"/content/drive/MyDrive/Lab-Proj/testing/kvara.jpg\"\n",
        "        dim = 224\n",
        "\n",
        "        img = load_img(img_path, dim)\n",
        "        shape = np.array(img).shape\n",
        "\n",
        "        self.assertEqual(shape, (1, dim,dim,3))\n",
        "\n",
        "    def test_model_inference(self):\n",
        "        '''Test case function for predicting a single image with the loaded model'''\n",
        "\n",
        "        model_path = \"/content/drive/MyDrive/Lab-Proj/\"+\"models/EfficientNetV2B0-gender.h5\"\n",
        "        model = load_model(model_path)\n",
        "\n",
        "        img_path = \"/content/drive/MyDrive/Lab-Proj/testing/kvara.jpg\"\n",
        "        dim = 224\n",
        "        img = load_img(img_path, dim)\n",
        "\n",
        "        pred = model_inference(model, img)\n",
        "        shape = pred.shape\n",
        "\n",
        "        self.assertEqual(shape, (1, model.output.shape[1:].as_list()[0]))\n",
        "\n",
        "    def test_fake_model_inference_(self):\n",
        "        '''Test case function for predicting a single image with the loaded model'''\n",
        "\n",
        "        model_path = \"/content/drive/MyDrive/Lab-Proj/\"+\"models/fake_model.h5\"\n",
        "        model = load_model(model_path)\n",
        "\n",
        "        img_path = \"/content/drive/MyDrive/Lab-Proj/testing/kvara.jpg\"\n",
        "        dim = 224\n",
        "        img = load_img(img_path, dim)\n",
        "\n",
        "        pred = model_inference(model, img)\n",
        "        self.assertEqual(pred, None)"
      ],
      "metadata": {
        "id": "Ri1J_cOULcXC"
      },
      "execution_count": null,
      "outputs": []
    },
    {
      "cell_type": "markdown",
      "source": [
        "# AGE"
      ],
      "metadata": {
        "id": "AygYJfnLNAfI"
      }
    },
    {
      "cell_type": "code",
      "source": [
        "class TestAgeClassificationModels(unittest.TestCase):\n",
        "  \n",
        "    def test_load_model(self):\n",
        "        '''Test case function for loading an existing keras model'''\n",
        "        \n",
        "        with self.subTest():\n",
        "            model_path = \"/content/drive/MyDrive/Lab-Proj/\"+\"models/EfficientNetB0v1_age_best.h5\"\n",
        "\n",
        "            model = load_model(model_path)\n",
        "            result = is_keras_model(model)\n",
        "        \n",
        "            self.assertTrue(result)\n",
        "\n",
        "        with self.subTest():\n",
        "            model_path = \"/content/drive/MyDrive/Lab-Proj/\"+\"models/fake_model.h5\"\n",
        "\n",
        "            model = load_model(model_path)\n",
        "            result = is_keras_model(model)\n",
        "        \n",
        "            self.assertFalse(result)\n",
        "\n",
        "    def test_load_image(self):\n",
        "        '''Test case function for loading an image as input for the model'''\n",
        "\n",
        "        img_path = \"/content/drive/MyDrive/Lab-Proj/testing/kvara.jpg\"\n",
        "        dim = 224\n",
        "\n",
        "        img = load_img(img_path, dim)\n",
        "        shape = np.array(img).shape\n",
        "\n",
        "        self.assertEqual(shape, (1, dim,dim,3))\n",
        "\n",
        "    def test_model_inference(self):\n",
        "        '''Test case function for predicting a single image with the loaded model'''\n",
        "\n",
        "        model_path = \"/content/drive/MyDrive/Lab-Proj/\"+\"models/EfficientNetB0v1_age_best.h5\"\n",
        "        model = load_model(model_path)\n",
        "\n",
        "        img_path = \"/content/drive/MyDrive/Lab-Proj/testing/kvara.jpg\"\n",
        "        dim = 224\n",
        "        img = load_img(img_path, dim)\n",
        "\n",
        "        pred = model_inference(model, img)\n",
        "        shape = pred.shape\n",
        "\n",
        "        self.assertEqual(shape, (1, model.output.shape[1:].as_list()[0]))\n",
        "\n",
        "    def test_fake_model_inference_(self):\n",
        "        '''Test case function for predicting a single image with the loaded model'''\n",
        "\n",
        "        model_path = \"/content/drive/MyDrive/Lab-Proj/\"+\"models/fake_model.h5\"\n",
        "        model = load_model(model_path)\n",
        "\n",
        "        img_path = \"/content/drive/MyDrive/Lab-Proj/testing/kvara.jpg\"\n",
        "        dim = 224\n",
        "        img = load_img(img_path, dim)\n",
        "\n",
        "        pred = model_inference(model, img)\n",
        "        self.assertEqual(pred, None)"
      ],
      "metadata": {
        "id": "OzL1EijC-jY8"
      },
      "execution_count": null,
      "outputs": []
    },
    {
      "cell_type": "code",
      "source": [
        "class TestGenderClassificationModels(unittest.TestCase):\n",
        "  \n",
        "    def test_load_model(self):\n",
        "        '''Test case function for loading an existing keras model'''\n",
        "        \n",
        "        with self.subTest():\n",
        "            model_path = \"/content/drive/MyDrive/Lab-Proj/\"+\"models/EfficientNetV2B3-age-only-accuracy.h5\"\n",
        "\n",
        "            model = load_model(model_path)\n",
        "            result = is_keras_model(model)\n",
        "        \n",
        "            self.assertTrue(result)\n",
        "\n",
        "        with self.subTest():\n",
        "            model_path = \"/content/drive/MyDrive/Lab-Proj/\"+\"models/fake_model.h5\"\n",
        "\n",
        "            model = load_model(model_path)\n",
        "            result = is_keras_model(model)\n",
        "        \n",
        "            self.assertFalse(result)\n",
        "\n",
        "    def test_load_image(self):\n",
        "        '''Test case function for loading an image as input for the model'''\n",
        "\n",
        "        img_path = \"/content/drive/MyDrive/Lab-Proj/testing/kvara.jpg\"\n",
        "        dim = 224\n",
        "\n",
        "        img = load_img(img_path, dim)\n",
        "        shape = np.array(img).shape\n",
        "\n",
        "        self.assertEqual(shape, (1, dim,dim,3))\n",
        "\n",
        "    def test_model_inference(self):\n",
        "        '''Test case function for predicting a single image with the loaded model'''\n",
        "\n",
        "        model_path = \"/content/drive/MyDrive/Lab-Proj/\"+\"models/EfficientNetV2B0-gender.h5\"\n",
        "        model = load_model(model_path)\n",
        "\n",
        "        img_path = \"/content/drive/MyDrive/Lab-Proj/testing/kvara.jpg\"\n",
        "        dim = 224\n",
        "        img = load_img(img_path, dim)\n",
        "\n",
        "        pred = model_inference(model, img)\n",
        "        shape = pred.shape\n",
        "\n",
        "        self.assertEqual(shape, (1, model.output.shape[1:].as_list()[0]))\n",
        "\n",
        "    def test_fake_model_inference_(self):\n",
        "        '''Test case function for predicting a single image with the loaded model'''\n",
        "\n",
        "        model_path = \"/content/drive/MyDrive/Lab-Proj/\"+\"models/fake_model.h5\"\n",
        "        model = load_model(model_path)\n",
        "\n",
        "        img_path = \"/content/drive/MyDrive/Lab-Proj/testing/kvara.jpg\"\n",
        "        dim = 224\n",
        "        img = load_img(img_path, dim)\n",
        "\n",
        "        pred = model_inference(model, img)\n",
        "        self.assertEqual(pred, None)"
      ],
      "metadata": {
        "id": "vzQeIaSKLioB"
      },
      "execution_count": null,
      "outputs": []
    },
    {
      "cell_type": "code",
      "source": [
        "class TestGenderClassificationModels(unittest.TestCase):\n",
        "  \n",
        "    def test_load_model(self):\n",
        "        '''Test case function for loading an existing keras model'''\n",
        "        \n",
        "        with self.subTest():\n",
        "            model_path = \"/content/drive/MyDrive/Lab-Proj/\"+\"models/EfficientNetV2B0-age-k=3.h5\"\n",
        "\n",
        "            model = load_model(model_path)\n",
        "            result = is_keras_model(model)\n",
        "        \n",
        "            self.assertTrue(result)\n",
        "\n",
        "        with self.subTest():\n",
        "            model_path = \"/content/drive/MyDrive/Lab-Proj/\"+\"models/fake_model.h5\"\n",
        "\n",
        "            model = load_model(model_path)\n",
        "            result = is_keras_model(model)\n",
        "        \n",
        "            self.assertFalse(result)\n",
        "\n",
        "    def test_load_image(self):\n",
        "        '''Test case function for loading an image as input for the model'''\n",
        "\n",
        "        img_path = \"/content/drive/MyDrive/Lab-Proj/testing/kvara.jpg\"\n",
        "        dim = 224\n",
        "\n",
        "        img = load_img(img_path, dim)\n",
        "        shape = np.array(img).shape\n",
        "\n",
        "        self.assertEqual(shape, (1, dim,dim,3))\n",
        "\n",
        "    def test_model_inference(self):\n",
        "        '''Test case function for predicting a single image with the loaded model'''\n",
        "\n",
        "        model_path = \"/content/drive/MyDrive/Lab-Proj/\"+\"models/EfficientNetV2B0-gender.h5\"\n",
        "        model = load_model(model_path)\n",
        "\n",
        "        img_path = \"/content/drive/MyDrive/Lab-Proj/testing/kvara.jpg\"\n",
        "        dim = 224\n",
        "        img = load_img(img_path, dim)\n",
        "\n",
        "        pred = model_inference(model, img)\n",
        "        shape = pred.shape\n",
        "\n",
        "        self.assertEqual(shape, (1, model.output.shape[1:].as_list()[0]))\n",
        "\n",
        "    def test_fake_model_inference_(self):\n",
        "        '''Test case function for predicting a single image with the loaded model'''\n",
        "\n",
        "        model_path = \"/content/drive/MyDrive/Lab-Proj/\"+\"models/fake_model.h5\"\n",
        "        model = load_model(model_path)\n",
        "\n",
        "        img_path = \"/content/drive/MyDrive/Lab-Proj/testing/kvara.jpg\"\n",
        "        dim = 224\n",
        "        img = load_img(img_path, dim)\n",
        "\n",
        "        pred = model_inference(model, img)\n",
        "        self.assertEqual(pred, None)"
      ],
      "metadata": {
        "id": "tPRSJVtsLydD"
      },
      "execution_count": null,
      "outputs": []
    },
    {
      "cell_type": "markdown",
      "source": [
        "# Tests Run"
      ],
      "metadata": {
        "id": "NVVh33RY7XTf"
      }
    },
    {
      "cell_type": "code",
      "source": [
        "unittest.main(argv=[''], verbosity=2, exit=False)"
      ],
      "metadata": {
        "colab": {
          "base_uri": "https://localhost:8080/"
        },
        "id": "hFJPlYxg7S3A",
        "outputId": "93b36564-15ec-4379-bd5a-1c92297dead2"
      },
      "execution_count": null,
      "outputs": [
        {
          "output_type": "stream",
          "name": "stderr",
          "text": [
            "test_fake_model_inference_ (__main__.TestAgeClassificationModels)\n",
            "Test case function for predicting a single image with the loaded model ... ok\n",
            "test_load_image (__main__.TestAgeClassificationModels)\n",
            "Test case function for loading an image as input for the model ... ok\n",
            "test_load_model (__main__.TestAgeClassificationModels)\n",
            "Test case function for loading an existing keras model ... ok\n",
            "test_model_inference (__main__.TestAgeClassificationModels)\n",
            "Test case function for predicting a single image with the loaded model ... ok\n",
            "test_fake_model_inference_ (__main__.TestGenderClassificationModels)\n",
            "Test case function for predicting a single image with the loaded model ... ok\n",
            "test_load_image (__main__.TestGenderClassificationModels)\n",
            "Test case function for loading an image as input for the model ... ok\n",
            "test_load_model (__main__.TestGenderClassificationModels)\n",
            "Test case function for loading an existing keras model ... ok\n",
            "test_model_inference (__main__.TestGenderClassificationModels)\n",
            "Test case function for predicting a single image with the loaded model ... ok\n",
            "\n",
            "----------------------------------------------------------------------\n",
            "Ran 8 tests in 28.251s\n",
            "\n",
            "OK\n"
          ]
        },
        {
          "output_type": "execute_result",
          "data": {
            "text/plain": [
              "<unittest.main.TestProgram at 0x7efd3ee97070>"
            ]
          },
          "metadata": {},
          "execution_count": 7
        }
      ]
    },
    {
      "cell_type": "code",
      "source": [],
      "metadata": {
        "id": "ZITB2sCa7TZF"
      },
      "execution_count": null,
      "outputs": []
    }
  ]
}